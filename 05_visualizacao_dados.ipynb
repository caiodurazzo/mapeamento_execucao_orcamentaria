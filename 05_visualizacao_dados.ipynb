{
 "cells": [
  {
   "cell_type": "markdown",
   "id": "fe02e703",
   "metadata": {},
   "source": [
    "## Visualização dos dados"
   ]
  },
  {
   "cell_type": "markdown",
   "id": "0457822c",
   "metadata": {},
   "source": [
    "Nesse notebook são feitas as visualizações dos dados"
   ]
  },
  {
   "cell_type": "code",
   "execution_count": null,
   "id": "529409fc",
   "metadata": {},
   "outputs": [],
   "source": [
    "import matplotlib.pyplot as plt\n",
    "import matplotlib.ticker as ticker\n",
    "from utils.load_shapefile import load_shapefile"
   ]
  },
  {
   "cell_type": "code",
   "execution_count": null,
   "id": "e7ace844",
   "metadata": {},
   "outputs": [],
   "source": [
    "gdf_mapa = load_shapefile(\"gdf_mapa.shp\")"
   ]
  },
  {
   "cell_type": "markdown",
   "id": "67f52d06",
   "metadata": {},
   "source": [
    "#### Mapa"
   ]
  },
  {
   "cell_type": "code",
   "execution_count": null,
   "id": "8b941095",
   "metadata": {},
   "outputs": [],
   "source": [
    "fig, ax = plt.subplots(1, 1,\n",
    "                       figsize = (12, 10))\n",
    "\n",
    "gdf_mapa.plot(\n",
    "    column = \"VALOR_DETALHAMENTO_AÇÃO\",\n",
    "    cmap = \"YlOrRd\",\n",
    "    linewidth = 0.8,\n",
    "    edgecolor = \"black\",\n",
    "    legend = True,\n",
    "    ax = ax)\n",
    "\n",
    "colorbar = ax.get_figure().get_axes()[1]\n",
    "colorbar.yaxis.set_major_formatter(ticker.FuncFormatter(lambda x, _: f'{x/1e9:.0f} bi'))\n",
    "colorbar.set_ylabel(\"Gastos totais (R$)\", fontsize = 12)\n",
    "\n",
    "ax.set_title(\"Execução orçamentária por subprefeituras\", fontsize = 16)\n",
    "\n",
    "plt.figtext(0.5, 0.01,\n",
    "            \"Fonte: Prefeitura Municipal de São Paulo (2024)\",\n",
    "            ha = \"right\", fontsize = 10)\n",
    "\n",
    "ax.axis(\"off\")\n",
    "plt.tight_layout()\n",
    "plt.show()"
   ]
  }
 ],
 "metadata": {
  "language_info": {
   "name": "python"
  }
 },
 "nbformat": 4,
 "nbformat_minor": 5
}
