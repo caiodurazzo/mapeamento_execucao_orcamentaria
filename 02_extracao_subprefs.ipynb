{
 "cells": [
  {
   "cell_type": "markdown",
   "id": "0b8d6337",
   "metadata": {},
   "source": [
    "## Extração dos limites administrativos das subprefeituras"
   ]
  },
  {
   "cell_type": "markdown",
   "id": "4a9ed4f2",
   "metadata": {},
   "source": [
    "Nesse notebook são extraídos os limites administrativos das subprefeituras da Prefeitura Municipal de São Paulo"
   ]
  },
  {
   "cell_type": "markdown",
   "id": "172a7a3c",
   "metadata": {},
   "source": [
    "Os dados são do projeto GeoSampa da PMSP: https://geosampa.prefeitura.sp.gov.br/PaginasPublicas/_SBC.aspx"
   ]
  },
  {
   "cell_type": "code",
   "execution_count": null,
   "id": "2ab9204b",
   "metadata": {},
   "outputs": [],
   "source": [
    "import requests\n",
    "import zipfile\n",
    "import io\n",
    "import os\n",
    "import tempfile\n",
    "import geopandas as gpd\n",
    "from utils.save_shapefile import save_shapefile"
   ]
  },
  {
   "cell_type": "code",
   "execution_count": null,
   "id": "31c4d854",
   "metadata": {},
   "outputs": [],
   "source": [
    "url_geosampa = \"https://download.geosampa.prefeitura.sp.gov.br/PaginasPublicas/downloadArquivo.aspx?orig=DownloadCamadas&arq=01_Limites Administrativos\\\\Subprefeituras\\\\Shapefile\\\\SIRGAS_SHP_subprefeitura&arqTipo=Shapefile\""
   ]
  },
  {
   "cell_type": "code",
   "execution_count": null,
   "id": "80a29b19",
   "metadata": {},
   "outputs": [],
   "source": [
    "with tempfile.TemporaryDirectory() as tmpdir:\n",
    "    with zipfile.ZipFile(io.BytesIO(requests.get(url_geosampa).content)) as z:\n",
    "        z.extractall(tmpdir)\n",
    "\n",
    "    path_shp = os.path.join(tmpdir,\n",
    "                            \"SIRGAS_SHP_subprefeitura\",\n",
    "                            \"SIRGAS_SHP_subprefeitura_polygon.shp\")\n",
    "\n",
    "    gdf = gpd.read_file(path_shp)"
   ]
  },
  {
   "cell_type": "code",
   "execution_count": null,
   "id": "6d31b557",
   "metadata": {},
   "outputs": [],
   "source": [
    "save_shapefile(gdf, \"subprefeituras_geosampa.shp\")"
   ]
  }
 ],
 "metadata": {
  "kernelspec": {
   "display_name": "Python 3",
   "language": "python",
   "name": "python3"
  },
  "language_info": {
   "name": "python",
   "version": "3.12.0"
  }
 },
 "nbformat": 4,
 "nbformat_minor": 5
}
