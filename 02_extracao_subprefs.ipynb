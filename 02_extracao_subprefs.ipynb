{
 "cells": [
  {
   "cell_type": "markdown",
   "id": "0b8d6337",
   "metadata": {},
   "source": [
    "## Extração dos limites administrativos das subprefeituras"
   ]
  },
  {
   "cell_type": "markdown",
   "id": "4a9ed4f2",
   "metadata": {},
   "source": [
    "Nesse notebook são extraídos os limites administrativos das subprefeituras da Prefeitura Municipal de São Paulo"
   ]
  },
  {
   "cell_type": "markdown",
   "id": "172a7a3c",
   "metadata": {},
   "source": [
    "Os dados são do projeto GeoSampa da PMSP: https://geosampa.prefeitura.sp.gov.br/PaginasPublicas/_SBC.aspx"
   ]
  },
  {
   "cell_type": "code",
   "execution_count": 1,
   "id": "2ab9204b",
   "metadata": {},
   "outputs": [],
   "source": [
    "import requests\n",
    "import zipfile\n",
    "import io\n",
    "import os\n",
    "import tempfile\n",
    "import geopandas as gpd\n",
    "from utils.save_shapefile import save_shapefile"
   ]
  },
  {
   "cell_type": "code",
   "execution_count": 2,
   "id": "31c4d854",
   "metadata": {},
   "outputs": [],
   "source": [
    "url_geosampa = \"https://download.geosampa.prefeitura.sp.gov.br/PaginasPublicas/downloadArquivo.aspx?orig=DownloadCamadas&arq=01_Limites Administrativos\\\\Subprefeituras\\\\Shapefile\\\\SIRGAS_SHP_subprefeitura&arqTipo=Shapefile\""
   ]
  },
  {
   "cell_type": "code",
   "execution_count": 3,
   "id": "80a29b19",
   "metadata": {},
   "outputs": [],
   "source": [
    "with tempfile.TemporaryDirectory() as tmpdir:\n",
    "    with zipfile.ZipFile(io.BytesIO(requests.get(url_geosampa).content)) as z:\n",
    "        z.extractall(tmpdir)\n",
    "\n",
    "    path_shp = os.path.join(tmpdir,\n",
    "                            \"SIRGAS_SHP_subprefeitura\",\n",
    "                            \"SIRGAS_SHP_subprefeitura_polygon.shp\")\n",
    "\n",
    "    gdf = gpd.read_file(path_shp)"
   ]
  },
  {
   "cell_type": "code",
   "execution_count": 4,
   "id": "6d31b557",
   "metadata": {},
   "outputs": [
    {
     "name": "stdout",
     "output_type": "stream",
     "text": [
      "Shapefile saved to data\\subprefeituras_geosampa.shp\\data.shp\n"
     ]
    },
    {
     "name": "stderr",
     "output_type": "stream",
     "text": [
      "c:\\Users\\x050258\\projetos\\dash_orcamento_melhores_praticas_estagio\\venv\\Lib\\site-packages\\pyogrio\\geopandas.py:710: UserWarning: 'crs' was not provided.  The output dataset will not have projection information defined and may not be usable in other systems.\n",
      "  write(\n",
      "c:\\Users\\x050258\\projetos\\dash_orcamento_melhores_praticas_estagio\\venv\\Lib\\site-packages\\pyogrio\\raw.py:723: RuntimeWarning: Value 360654213.19 of field sp_areamt of feature 20 not successfully written. Possibly due to too larger number with respect to field width\n",
      "  ogr_write(\n",
      "c:\\Users\\x050258\\projetos\\dash_orcamento_melhores_praticas_estagio\\venv\\Lib\\site-packages\\pyogrio\\raw.py:723: RuntimeWarning: Value 132844027.47 of field sp_areamt of feature 22 not successfully written. Possibly due to too larger number with respect to field width\n",
      "  ogr_write(\n"
     ]
    }
   ],
   "source": [
    "save_shapefile(gdf, \"subprefeituras_geosampa.shp\")"
   ]
  }
 ],
 "metadata": {
  "kernelspec": {
   "display_name": "venv",
   "language": "python",
   "name": "python3"
  },
  "language_info": {
   "codemirror_mode": {
    "name": "ipython",
    "version": 3
   },
   "file_extension": ".py",
   "mimetype": "text/x-python",
   "name": "python",
   "nbconvert_exporter": "python",
   "pygments_lexer": "ipython3",
   "version": "3.12.0"
  }
 },
 "nbformat": 4,
 "nbformat_minor": 5
}
