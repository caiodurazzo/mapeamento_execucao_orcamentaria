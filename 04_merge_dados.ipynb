{
 "cells": [
  {
   "cell_type": "markdown",
   "id": "f0eb25ea",
   "metadata": {},
   "source": [
    "## Merge dos dados"
   ]
  },
  {
   "cell_type": "markdown",
   "id": "51bada6b",
   "metadata": {},
   "source": [
    "Nesse notebook são mescladas as bases de dados do projeto"
   ]
  },
  {
   "cell_type": "code",
   "execution_count": null,
   "id": "de3a3237",
   "metadata": {},
   "outputs": [],
   "source": [
    "from utils.load_csv import load_csv\n",
    "from utils.load_shapefile import load_shapefile\n",
    "from utils.save_shapefile import save_shapefile"
   ]
  },
  {
   "cell_type": "code",
   "execution_count": null,
   "id": "eb48df16",
   "metadata": {},
   "outputs": [],
   "source": [
    "df_orcamento_regionalizavel = load_csv(\"orcamento_tratado_2024.csv\")\n",
    "\n",
    "gdf = load_shapefile(\"subprefeituras_geosampa.shp\")"
   ]
  },
  {
   "cell_type": "markdown",
   "id": "be8d132b",
   "metadata": {},
   "source": [
    "#### Agrupamento e soma dos gastos"
   ]
  },
  {
   "cell_type": "markdown",
   "id": "5d446176",
   "metadata": {},
   "source": [
    "Agrupa as variáveis de interesse da regionalização da execução orçamentária e soma os gastos por subprefeitura"
   ]
  },
  {
   "cell_type": "code",
   "execution_count": null,
   "id": "8df59952",
   "metadata": {},
   "outputs": [],
   "source": [
    "df_grouped = df_orcamento_regionalizavel.groupby(\"SUBPREFEITURA\")[\"VALOR_DETALHAMENTO_AÇÃO\"].sum().reset_index()\n",
    "\n",
    "df_grouped"
   ]
  },
  {
   "cell_type": "code",
   "execution_count": null,
   "id": "f527a371",
   "metadata": {},
   "outputs": [],
   "source": [
    "total = df_grouped[\"VALOR_DETALHAMENTO_AÇÃO\"].sum()\n",
    "\n",
    "total = f\"{total:,.2f}\"\n",
    "\n",
    "total"
   ]
  },
  {
   "cell_type": "markdown",
   "id": "502baedb",
   "metadata": {},
   "source": [
    "#### Merge para o mapa"
   ]
  },
  {
   "cell_type": "markdown",
   "id": "27934050",
   "metadata": {},
   "source": [
    "Mescla as bases de dados"
   ]
  },
  {
   "cell_type": "code",
   "execution_count": null,
   "id": "79cba80b",
   "metadata": {},
   "outputs": [],
   "source": [
    "gdf_mapa = gdf.merge(\n",
    "    df_grouped,\n",
    "    how = \"left\",\n",
    "    left_on = \"sp_nome\",\n",
    "    right_on = \"SUBPREFEITURA\")\n",
    "\n",
    "gdf_mapa"
   ]
  },
  {
   "cell_type": "code",
   "execution_count": null,
   "id": "e3033dbd",
   "metadata": {},
   "outputs": [],
   "source": [
    "save_shapefile(gdf_mapa, \"gdf_mapa.shp\")"
   ]
  }
 ],
 "metadata": {
  "kernelspec": {
   "display_name": "Python 3",
   "language": "python",
   "name": "python3"
  },
  "language_info": {
   "name": "python",
   "version": "3.12.0"
  }
 },
 "nbformat": 4,
 "nbformat_minor": 5
}
