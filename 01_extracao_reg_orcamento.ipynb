{
 "cells": [
  {
   "cell_type": "markdown",
   "id": "8a92c68d",
   "metadata": {},
   "source": [
    "## Extração da regionalização da execução orçamentária"
   ]
  },
  {
   "cell_type": "markdown",
   "id": "8a6d25ac",
   "metadata": {},
   "source": [
    "Nesse notebook é extraída a base de dados da regionalização da execução orçamentária da Prefeitura Municipal de São Paulo para o ano de 2024"
   ]
  },
  {
   "cell_type": "markdown",
   "id": "ad6767ee",
   "metadata": {},
   "source": [
    "Os dados são do site do orçamento da PMSP: https://orcamento.sf.prefeitura.sp.gov.br/orcamento/"
   ]
  },
  {
   "cell_type": "code",
   "execution_count": 1,
   "id": "dc6a22c2",
   "metadata": {},
   "outputs": [],
   "source": [
    "import pandas as pd\n",
    "import os\n",
    "from utils.save_csv import save_csv"
   ]
  },
  {
   "cell_type": "code",
   "execution_count": 2,
   "id": "31555c60",
   "metadata": {},
   "outputs": [],
   "source": [
    "file_reg_orcamento = \"data/reg_orcamento_2024.csv\""
   ]
  },
  {
   "cell_type": "code",
   "execution_count": 3,
   "id": "c0c1f7d5",
   "metadata": {},
   "outputs": [
    {
     "name": "stderr",
     "output_type": "stream",
     "text": [
      "C:\\Users\\caiod\\AppData\\Local\\Temp\\ipykernel_5632\\672850856.py:11: DtypeWarning: Columns (27,28,29,30,31) have mixed types. Specify dtype option on import or set low_memory=False.\n",
      "  df_reg_orcamento = pd.read_csv(url_reg_orcamento,\n"
     ]
    },
    {
     "name": "stdout",
     "output_type": "stream",
     "text": [
      "Data saved to data\\reg_orcamento_2024.csv\n"
     ]
    }
   ],
   "source": [
    "if os.path.exists(file_reg_orcamento):\n",
    "\n",
    "    df_reg_orcamento = pd.read_csv(file_reg_orcamento,\n",
    "                                   sep = \";\",\n",
    "                                   encoding = \"latin1\")\n",
    "\n",
    "else:\n",
    "\n",
    "    url_reg_orcamento = \"https://orcamento.sf.prefeitura.sp.gov.br/orcamento/uploads/2024/basedadosDA_1224.csv\"\n",
    "\n",
    "    df_reg_orcamento = pd.read_csv(url_reg_orcamento,\n",
    "                                   sep = \";\",\n",
    "                                   encoding = \"latin1\")\n",
    "\n",
    "    save_csv(df_reg_orcamento, \"reg_orcamento_2024.csv\")"
   ]
  }
 ],
 "metadata": {
  "kernelspec": {
   "display_name": "Python 3",
   "language": "python",
   "name": "python3"
  },
  "language_info": {
   "codemirror_mode": {
    "name": "ipython",
    "version": 3
   },
   "file_extension": ".py",
   "mimetype": "text/x-python",
   "name": "python",
   "nbconvert_exporter": "python",
   "pygments_lexer": "ipython3",
   "version": "3.12.4"
  }
 },
 "nbformat": 4,
 "nbformat_minor": 5
}
