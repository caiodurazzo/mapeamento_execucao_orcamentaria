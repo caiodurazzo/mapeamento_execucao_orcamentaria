{
 "cells": [
  {
   "cell_type": "markdown",
   "id": "ec1cedc2",
   "metadata": {},
   "source": [
    "## Tratamento da regionalização da execução orçamentária"
   ]
  },
  {
   "cell_type": "markdown",
   "id": "3b1a1adf",
   "metadata": {},
   "source": [
    "Nesse notebook são tratados os dados da regionalização da execução orçamentária da Prefeitura Municipal de São Paulo para o ano de 2024"
   ]
  },
  {
   "cell_type": "code",
   "execution_count": 1,
   "id": "0945cdad",
   "metadata": {},
   "outputs": [],
   "source": [
    "import pandas as pd\n",
    "import numpy as np\n",
    "from utils.load_csv import load_csv\n",
    "from utils.load_shapefile import load_shapefile\n",
    "from utils.save_csv import save_csv"
   ]
  },
  {
   "cell_type": "code",
   "execution_count": 2,
   "id": "2ec40187",
   "metadata": {},
   "outputs": [
    {
     "name": "stderr",
     "output_type": "stream",
     "text": [
      "c:\\Users\\x050258\\projetos\\dash_orcamento_melhores_praticas_estagio\\utils\\load_csv.py:18: DtypeWarning: Columns (27,28,29,30,31) have mixed types. Specify dtype option on import or set low_memory=False.\n",
      "  return pd.read_csv(file_path, **read_kwargs)\n"
     ]
    }
   ],
   "source": [
    "df_reg_orcamento = load_csv(\"reg_orcamento_2024.csv\")"
   ]
  },
  {
   "cell_type": "markdown",
   "id": "048fad45",
   "metadata": {},
   "source": [
    "#### Filtro regionalizável"
   ]
  },
  {
   "cell_type": "markdown",
   "id": "58bb4413",
   "metadata": {},
   "source": [
    "Filtra a base de dados para conter apenas despesas regionalizáveis"
   ]
  },
  {
   "cell_type": "code",
   "execution_count": 3,
   "id": "fd55c8ea",
   "metadata": {},
   "outputs": [
    {
     "data": {
      "text/plain": [
       "array(['Despesa Regionalizável', nan, 'Despesa Não-Regionalizável'],\n",
       "      dtype=object)"
      ]
     },
     "execution_count": 3,
     "metadata": {},
     "output_type": "execute_result"
    }
   ],
   "source": [
    "df_reg_orcamento[\"TIPO_REGIONALIZAÇÃO\"].unique()"
   ]
  },
  {
   "cell_type": "code",
   "execution_count": 4,
   "id": "0585a3fd",
   "metadata": {},
   "outputs": [
    {
     "data": {
      "text/plain": [
       "array(['Despesa Regionalizável'], dtype=object)"
      ]
     },
     "execution_count": 4,
     "metadata": {},
     "output_type": "execute_result"
    }
   ],
   "source": [
    "df_orcamento_regionalizavel = df_reg_orcamento[df_reg_orcamento[\"TIPO_REGIONALIZAÇÃO\"] == \"Despesa Regionalizável\"].copy()\n",
    "\n",
    "df_orcamento_regionalizavel[\"TIPO_REGIONALIZAÇÃO\"].unique()"
   ]
  },
  {
   "cell_type": "code",
   "execution_count": 5,
   "id": "21358ad5",
   "metadata": {},
   "outputs": [
    {
     "data": {
      "text/html": [
       "<div>\n",
       "<style scoped>\n",
       "    .dataframe tbody tr th:only-of-type {\n",
       "        vertical-align: middle;\n",
       "    }\n",
       "\n",
       "    .dataframe tbody tr th {\n",
       "        vertical-align: top;\n",
       "    }\n",
       "\n",
       "    .dataframe thead th {\n",
       "        text-align: right;\n",
       "    }\n",
       "</style>\n",
       "<table border=\"1\" class=\"dataframe\">\n",
       "  <thead>\n",
       "    <tr style=\"text-align: right;\">\n",
       "      <th></th>\n",
       "      <th>COD_EMPRESA_PMSP</th>\n",
       "      <th>COD_EMPENHO</th>\n",
       "      <th>ANO_EMPENHO</th>\n",
       "      <th>CÓDIGO_NLP</th>\n",
       "      <th>ANO_LIQUIDAÇÃO</th>\n",
       "      <th>DATA_LIQUIDAÇÃO</th>\n",
       "      <th>CÓDIGO_ÓRGÃO</th>\n",
       "      <th>SIGLA_ÓRGÃO</th>\n",
       "      <th>DESCRIÇÃO_ÓRGÃO</th>\n",
       "      <th>CÓDIGO_UNIDADE</th>\n",
       "      <th>...</th>\n",
       "      <th>CÓDIGO_EXERCÍCIO_FONTE</th>\n",
       "      <th>CÓDIGO_DESTINAÇÃO_RECURSO</th>\n",
       "      <th>CÓDIGO_VÍNCULO_PMSP</th>\n",
       "      <th>CÓDIGO_TIPO_CRÉDITO_ORÇAMENTÁRIO</th>\n",
       "      <th>REGIÃO</th>\n",
       "      <th>SUBPREFEITURA</th>\n",
       "      <th>DISTRITO</th>\n",
       "      <th>TIPO_REGIONALIZAÇÃO</th>\n",
       "      <th>VALOR_DETALHAMENTO_AÇÃO</th>\n",
       "      <th>DATA_EXTRAÇÃO</th>\n",
       "    </tr>\n",
       "  </thead>\n",
       "  <tbody>\n",
       "    <tr>\n",
       "      <th>0</th>\n",
       "      <td>4</td>\n",
       "      <td>197</td>\n",
       "      <td>2024</td>\n",
       "      <td>362</td>\n",
       "      <td>2024</td>\n",
       "      <td>2024-01-30 00:00:00.0000000</td>\n",
       "      <td>2</td>\n",
       "      <td>HSPM</td>\n",
       "      <td>Hospital do Servidor Público Municipal</td>\n",
       "      <td>10</td>\n",
       "      <td>...</td>\n",
       "      <td>1</td>\n",
       "      <td>500</td>\n",
       "      <td>9001</td>\n",
       "      <td>0</td>\n",
       "      <td>Centro</td>\n",
       "      <td>Subprefeitura Sé</td>\n",
       "      <td>Supra-Distrital</td>\n",
       "      <td>Despesa Regionalizável</td>\n",
       "      <td>1792,03</td>\n",
       "      <td>03/07/2025</td>\n",
       "    </tr>\n",
       "    <tr>\n",
       "      <th>1</th>\n",
       "      <td>4</td>\n",
       "      <td>197</td>\n",
       "      <td>2024</td>\n",
       "      <td>893</td>\n",
       "      <td>2024</td>\n",
       "      <td>2024-02-28 00:00:00.0000000</td>\n",
       "      <td>2</td>\n",
       "      <td>HSPM</td>\n",
       "      <td>Hospital do Servidor Público Municipal</td>\n",
       "      <td>10</td>\n",
       "      <td>...</td>\n",
       "      <td>1</td>\n",
       "      <td>500</td>\n",
       "      <td>9001</td>\n",
       "      <td>0</td>\n",
       "      <td>Centro</td>\n",
       "      <td>Subprefeitura Sé</td>\n",
       "      <td>Supra-Distrital</td>\n",
       "      <td>Despesa Regionalizável</td>\n",
       "      <td>1780,47</td>\n",
       "      <td>03/07/2025</td>\n",
       "    </tr>\n",
       "    <tr>\n",
       "      <th>2</th>\n",
       "      <td>4</td>\n",
       "      <td>197</td>\n",
       "      <td>2024</td>\n",
       "      <td>1973</td>\n",
       "      <td>2024</td>\n",
       "      <td>2024-04-05 00:00:00.0000000</td>\n",
       "      <td>2</td>\n",
       "      <td>HSPM</td>\n",
       "      <td>Hospital do Servidor Público Municipal</td>\n",
       "      <td>10</td>\n",
       "      <td>...</td>\n",
       "      <td>1</td>\n",
       "      <td>500</td>\n",
       "      <td>9001</td>\n",
       "      <td>0</td>\n",
       "      <td>Centro</td>\n",
       "      <td>Subprefeitura Sé</td>\n",
       "      <td>Supra-Distrital</td>\n",
       "      <td>Despesa Regionalizável</td>\n",
       "      <td>1667,19</td>\n",
       "      <td>03/07/2025</td>\n",
       "    </tr>\n",
       "    <tr>\n",
       "      <th>3</th>\n",
       "      <td>4</td>\n",
       "      <td>197</td>\n",
       "      <td>2024</td>\n",
       "      <td>2430</td>\n",
       "      <td>2024</td>\n",
       "      <td>2024-04-29 00:00:00.0000000</td>\n",
       "      <td>2</td>\n",
       "      <td>HSPM</td>\n",
       "      <td>Hospital do Servidor Público Municipal</td>\n",
       "      <td>10</td>\n",
       "      <td>...</td>\n",
       "      <td>1</td>\n",
       "      <td>500</td>\n",
       "      <td>9001</td>\n",
       "      <td>0</td>\n",
       "      <td>Centro</td>\n",
       "      <td>Subprefeitura Sé</td>\n",
       "      <td>Supra-Distrital</td>\n",
       "      <td>Despesa Regionalizável</td>\n",
       "      <td>1667,19</td>\n",
       "      <td>03/07/2025</td>\n",
       "    </tr>\n",
       "    <tr>\n",
       "      <th>4</th>\n",
       "      <td>4</td>\n",
       "      <td>2028</td>\n",
       "      <td>2024</td>\n",
       "      <td>3142</td>\n",
       "      <td>2024</td>\n",
       "      <td>2024-05-29 00:00:00.0000000</td>\n",
       "      <td>2</td>\n",
       "      <td>HSPM</td>\n",
       "      <td>Hospital do Servidor Público Municipal</td>\n",
       "      <td>10</td>\n",
       "      <td>...</td>\n",
       "      <td>1</td>\n",
       "      <td>500</td>\n",
       "      <td>9001</td>\n",
       "      <td>0</td>\n",
       "      <td>Centro</td>\n",
       "      <td>Subprefeitura Sé</td>\n",
       "      <td>Supra-Distrital</td>\n",
       "      <td>Despesa Regionalizável</td>\n",
       "      <td>1782,02</td>\n",
       "      <td>03/07/2025</td>\n",
       "    </tr>\n",
       "    <tr>\n",
       "      <th>...</th>\n",
       "      <td>...</td>\n",
       "      <td>...</td>\n",
       "      <td>...</td>\n",
       "      <td>...</td>\n",
       "      <td>...</td>\n",
       "      <td>...</td>\n",
       "      <td>...</td>\n",
       "      <td>...</td>\n",
       "      <td>...</td>\n",
       "      <td>...</td>\n",
       "      <td>...</td>\n",
       "      <td>...</td>\n",
       "      <td>...</td>\n",
       "      <td>...</td>\n",
       "      <td>...</td>\n",
       "      <td>...</td>\n",
       "      <td>...</td>\n",
       "      <td>...</td>\n",
       "      <td>...</td>\n",
       "      <td>...</td>\n",
       "      <td>...</td>\n",
       "    </tr>\n",
       "    <tr>\n",
       "      <th>530898</th>\n",
       "      <td>1</td>\n",
       "      <td>30563</td>\n",
       "      <td>2024</td>\n",
       "      <td>348205</td>\n",
       "      <td>2024</td>\n",
       "      <td>2024-12-16 00:00:00.0000000</td>\n",
       "      <td>98</td>\n",
       "      <td>FUNDURB</td>\n",
       "      <td>Fundo de Desenvolvimento Urbano</td>\n",
       "      <td>29</td>\n",
       "      <td>...</td>\n",
       "      <td>1</td>\n",
       "      <td>759</td>\n",
       "      <td>402</td>\n",
       "      <td>0</td>\n",
       "      <td>Norte</td>\n",
       "      <td>Subprefeitura Freguesia/Brasilândia</td>\n",
       "      <td>Supra-Distrital</td>\n",
       "      <td>Despesa Regionalizável</td>\n",
       "      <td>6364,98</td>\n",
       "      <td>03/07/2025</td>\n",
       "    </tr>\n",
       "    <tr>\n",
       "      <th>530946</th>\n",
       "      <td>1</td>\n",
       "      <td>28251</td>\n",
       "      <td>2024</td>\n",
       "      <td>57235</td>\n",
       "      <td>2024</td>\n",
       "      <td>2024-02-28 00:00:00.0000000</td>\n",
       "      <td>99</td>\n",
       "      <td>FUNDIP</td>\n",
       "      <td>Fundo Municipal de Iluminação Pública</td>\n",
       "      <td>10</td>\n",
       "      <td>...</td>\n",
       "      <td>1</td>\n",
       "      <td>751</td>\n",
       "      <td>253</td>\n",
       "      <td>0</td>\n",
       "      <td>Centro</td>\n",
       "      <td>Subprefeitura Sé</td>\n",
       "      <td>Supra-Distrital</td>\n",
       "      <td>Despesa Regionalizável</td>\n",
       "      <td>4412778,26</td>\n",
       "      <td>03/07/2025</td>\n",
       "    </tr>\n",
       "    <tr>\n",
       "      <th>530947</th>\n",
       "      <td>1</td>\n",
       "      <td>28251</td>\n",
       "      <td>2024</td>\n",
       "      <td>57235</td>\n",
       "      <td>2024</td>\n",
       "      <td>2024-02-28 00:00:00.0000000</td>\n",
       "      <td>99</td>\n",
       "      <td>FUNDIP</td>\n",
       "      <td>Fundo Municipal de Iluminação Pública</td>\n",
       "      <td>10</td>\n",
       "      <td>...</td>\n",
       "      <td>1</td>\n",
       "      <td>751</td>\n",
       "      <td>253</td>\n",
       "      <td>0</td>\n",
       "      <td>Leste</td>\n",
       "      <td>Subprefeitura São Mateus</td>\n",
       "      <td>Supra-Distrital</td>\n",
       "      <td>Despesa Regionalizável</td>\n",
       "      <td>333997,94</td>\n",
       "      <td>03/07/2025</td>\n",
       "    </tr>\n",
       "    <tr>\n",
       "      <th>530948</th>\n",
       "      <td>1</td>\n",
       "      <td>28251</td>\n",
       "      <td>2024</td>\n",
       "      <td>57235</td>\n",
       "      <td>2024</td>\n",
       "      <td>2024-02-28 00:00:00.0000000</td>\n",
       "      <td>99</td>\n",
       "      <td>FUNDIP</td>\n",
       "      <td>Fundo Municipal de Iluminação Pública</td>\n",
       "      <td>10</td>\n",
       "      <td>...</td>\n",
       "      <td>1</td>\n",
       "      <td>751</td>\n",
       "      <td>253</td>\n",
       "      <td>0</td>\n",
       "      <td>Leste</td>\n",
       "      <td>Subprefeitura São Miguel Paulista</td>\n",
       "      <td>Supra-Distrital</td>\n",
       "      <td>Despesa Regionalizável</td>\n",
       "      <td>1709010,06</td>\n",
       "      <td>03/07/2025</td>\n",
       "    </tr>\n",
       "    <tr>\n",
       "      <th>530949</th>\n",
       "      <td>1</td>\n",
       "      <td>28251</td>\n",
       "      <td>2024</td>\n",
       "      <td>57235</td>\n",
       "      <td>2024</td>\n",
       "      <td>2024-02-28 00:00:00.0000000</td>\n",
       "      <td>99</td>\n",
       "      <td>FUNDIP</td>\n",
       "      <td>Fundo Municipal de Iluminação Pública</td>\n",
       "      <td>10</td>\n",
       "      <td>...</td>\n",
       "      <td>1</td>\n",
       "      <td>751</td>\n",
       "      <td>253</td>\n",
       "      <td>0</td>\n",
       "      <td>Leste</td>\n",
       "      <td>Subprefeitura Sapopemba</td>\n",
       "      <td>A Definir -</td>\n",
       "      <td>Despesa Regionalizável</td>\n",
       "      <td>444134,83</td>\n",
       "      <td>03/07/2025</td>\n",
       "    </tr>\n",
       "  </tbody>\n",
       "</table>\n",
       "<p>354299 rows × 33 columns</p>\n",
       "</div>"
      ],
      "text/plain": [
       "        COD_EMPRESA_PMSP  COD_EMPENHO  ANO_EMPENHO  CÓDIGO_NLP  \\\n",
       "0                      4          197         2024         362   \n",
       "1                      4          197         2024         893   \n",
       "2                      4          197         2024        1973   \n",
       "3                      4          197         2024        2430   \n",
       "4                      4         2028         2024        3142   \n",
       "...                  ...          ...          ...         ...   \n",
       "530898                 1        30563         2024      348205   \n",
       "530946                 1        28251         2024       57235   \n",
       "530947                 1        28251         2024       57235   \n",
       "530948                 1        28251         2024       57235   \n",
       "530949                 1        28251         2024       57235   \n",
       "\n",
       "        ANO_LIQUIDAÇÃO              DATA_LIQUIDAÇÃO  CÓDIGO_ÓRGÃO SIGLA_ÓRGÃO  \\\n",
       "0                 2024  2024-01-30 00:00:00.0000000             2        HSPM   \n",
       "1                 2024  2024-02-28 00:00:00.0000000             2        HSPM   \n",
       "2                 2024  2024-04-05 00:00:00.0000000             2        HSPM   \n",
       "3                 2024  2024-04-29 00:00:00.0000000             2        HSPM   \n",
       "4                 2024  2024-05-29 00:00:00.0000000             2        HSPM   \n",
       "...                ...                          ...           ...         ...   \n",
       "530898            2024  2024-12-16 00:00:00.0000000            98     FUNDURB   \n",
       "530946            2024  2024-02-28 00:00:00.0000000            99      FUNDIP   \n",
       "530947            2024  2024-02-28 00:00:00.0000000            99      FUNDIP   \n",
       "530948            2024  2024-02-28 00:00:00.0000000            99      FUNDIP   \n",
       "530949            2024  2024-02-28 00:00:00.0000000            99      FUNDIP   \n",
       "\n",
       "                               DESCRIÇÃO_ÓRGÃO  CÓDIGO_UNIDADE  ...  \\\n",
       "0       Hospital do Servidor Público Municipal              10  ...   \n",
       "1       Hospital do Servidor Público Municipal              10  ...   \n",
       "2       Hospital do Servidor Público Municipal              10  ...   \n",
       "3       Hospital do Servidor Público Municipal              10  ...   \n",
       "4       Hospital do Servidor Público Municipal              10  ...   \n",
       "...                                        ...             ...  ...   \n",
       "530898         Fundo de Desenvolvimento Urbano              29  ...   \n",
       "530946   Fundo Municipal de Iluminação Pública              10  ...   \n",
       "530947   Fundo Municipal de Iluminação Pública              10  ...   \n",
       "530948   Fundo Municipal de Iluminação Pública              10  ...   \n",
       "530949   Fundo Municipal de Iluminação Pública              10  ...   \n",
       "\n",
       "       CÓDIGO_EXERCÍCIO_FONTE  CÓDIGO_DESTINAÇÃO_RECURSO CÓDIGO_VÍNCULO_PMSP  \\\n",
       "0                           1                        500                9001   \n",
       "1                           1                        500                9001   \n",
       "2                           1                        500                9001   \n",
       "3                           1                        500                9001   \n",
       "4                           1                        500                9001   \n",
       "...                       ...                        ...                 ...   \n",
       "530898                      1                        759                 402   \n",
       "530946                      1                        751                 253   \n",
       "530947                      1                        751                 253   \n",
       "530948                      1                        751                 253   \n",
       "530949                      1                        751                 253   \n",
       "\n",
       "        CÓDIGO_TIPO_CRÉDITO_ORÇAMENTÁRIO  REGIÃO  \\\n",
       "0                                      0  Centro   \n",
       "1                                      0  Centro   \n",
       "2                                      0  Centro   \n",
       "3                                      0  Centro   \n",
       "4                                      0  Centro   \n",
       "...                                  ...     ...   \n",
       "530898                                 0   Norte   \n",
       "530946                                 0  Centro   \n",
       "530947                                 0   Leste   \n",
       "530948                                 0   Leste   \n",
       "530949                                 0   Leste   \n",
       "\n",
       "                              SUBPREFEITURA         DISTRITO  \\\n",
       "0                          Subprefeitura Sé  Supra-Distrital   \n",
       "1                          Subprefeitura Sé  Supra-Distrital   \n",
       "2                          Subprefeitura Sé  Supra-Distrital   \n",
       "3                          Subprefeitura Sé  Supra-Distrital   \n",
       "4                          Subprefeitura Sé  Supra-Distrital   \n",
       "...                                     ...              ...   \n",
       "530898  Subprefeitura Freguesia/Brasilândia  Supra-Distrital   \n",
       "530946                     Subprefeitura Sé  Supra-Distrital   \n",
       "530947             Subprefeitura São Mateus  Supra-Distrital   \n",
       "530948    Subprefeitura São Miguel Paulista  Supra-Distrital   \n",
       "530949              Subprefeitura Sapopemba      A Definir -   \n",
       "\n",
       "           TIPO_REGIONALIZAÇÃO VALOR_DETALHAMENTO_AÇÃO  DATA_EXTRAÇÃO  \n",
       "0       Despesa Regionalizável                 1792,03     03/07/2025  \n",
       "1       Despesa Regionalizável                 1780,47     03/07/2025  \n",
       "2       Despesa Regionalizável                 1667,19     03/07/2025  \n",
       "3       Despesa Regionalizável                 1667,19     03/07/2025  \n",
       "4       Despesa Regionalizável                 1782,02     03/07/2025  \n",
       "...                        ...                     ...            ...  \n",
       "530898  Despesa Regionalizável                 6364,98     03/07/2025  \n",
       "530946  Despesa Regionalizável              4412778,26     03/07/2025  \n",
       "530947  Despesa Regionalizável               333997,94     03/07/2025  \n",
       "530948  Despesa Regionalizável              1709010,06     03/07/2025  \n",
       "530949  Despesa Regionalizável               444134,83     03/07/2025  \n",
       "\n",
       "[354299 rows x 33 columns]"
      ]
     },
     "execution_count": 5,
     "metadata": {},
     "output_type": "execute_result"
    }
   ],
   "source": [
    "df_orcamento_regionalizavel"
   ]
  },
  {
   "cell_type": "markdown",
   "id": "c87017c3",
   "metadata": {},
   "source": [
    "#### Transformação da variável de gasto"
   ]
  },
  {
   "cell_type": "markdown",
   "id": "d32cfb77",
   "metadata": {},
   "source": [
    "Transforma a variável de gasto da base de dados de string para float"
   ]
  },
  {
   "cell_type": "code",
   "execution_count": 6,
   "id": "64601bef",
   "metadata": {},
   "outputs": [
    {
     "data": {
      "text/plain": [
       "array(['1792,03', '1780,47', '1667,19', ..., '333997,94', '1709010,06',\n",
       "       '444134,83'], shape=(148398,), dtype=object)"
      ]
     },
     "execution_count": 6,
     "metadata": {},
     "output_type": "execute_result"
    }
   ],
   "source": [
    "df_orcamento_regionalizavel[\"VALOR_DETALHAMENTO_AÇÃO\"].unique()"
   ]
  },
  {
   "cell_type": "code",
   "execution_count": 7,
   "id": "e6eb950d",
   "metadata": {},
   "outputs": [
    {
     "data": {
      "text/plain": [
       "count       354,299.00\n",
       "mean        128,592.39\n",
       "std       2,417,553.63\n",
       "min               0.00\n",
       "25%             657.60\n",
       "50%           6,000.00\n",
       "75%          49,453.42\n",
       "max     768,185,644.10\n",
       "Name: VALOR_DETALHAMENTO_AÇÃO, dtype: float64"
      ]
     },
     "execution_count": 7,
     "metadata": {},
     "output_type": "execute_result"
    }
   ],
   "source": [
    "df_orcamento_regionalizavel[\"VALOR_DETALHAMENTO_AÇÃO\"] = df_orcamento_regionalizavel[\"VALOR_DETALHAMENTO_AÇÃO\"].str.replace(\".\", \"\").str.replace(\",\", \".\").astype(float)\n",
    "\n",
    "pd.options.display.float_format = '{:,.2f}'.format\n",
    "\n",
    "df_orcamento_regionalizavel[\"VALOR_DETALHAMENTO_AÇÃO\"].describe()"
   ]
  },
  {
   "cell_type": "code",
   "execution_count": 8,
   "id": "a1da73c2",
   "metadata": {},
   "outputs": [
    {
     "data": {
      "text/plain": [
       "array([   1792.03,    1780.47,    1667.19, ...,  333997.94, 1709010.06,\n",
       "        444134.83], shape=(148398,))"
      ]
     },
     "execution_count": 8,
     "metadata": {},
     "output_type": "execute_result"
    }
   ],
   "source": [
    "np.set_printoptions(suppress = True)\n",
    "\n",
    "df_orcamento_regionalizavel[\"VALOR_DETALHAMENTO_AÇÃO\"].unique()"
   ]
  },
  {
   "cell_type": "markdown",
   "id": "0c4286cc",
   "metadata": {},
   "source": [
    "#### Normalização das subprefeituras"
   ]
  },
  {
   "cell_type": "markdown",
   "id": "4897c640",
   "metadata": {},
   "source": [
    "Trata os nomes das subprefreituras na base de dados da regionalização da execução orçamentária para estar igual aos nomes no shapefile das subprefeituras"
   ]
  },
  {
   "cell_type": "code",
   "execution_count": 9,
   "id": "53b21a8a",
   "metadata": {},
   "outputs": [
    {
     "data": {
      "text/plain": [
       "array(['Subprefeitura Sé', 'Subprefeitura Vila Mariana',\n",
       "       'Subprefeitura Santana/Tucuruvi', 'Subprefeitura Campo Limpo',\n",
       "       'Subprefeitura Itaim Paulista', 'Subprefeitura Pirituba/Jaraguá',\n",
       "       'Subprefeitura Sapopemba', 'Subprefeitura Capela do Socorro',\n",
       "       'Subprefeitura Lapa', 'Subprefeitura Jaçanã/Tremembé',\n",
       "       'Subprefeitura Penha', 'Subprefeitura São Miguel Paulista',\n",
       "       'Subprefeitura Perus/Anhanguera', 'Subprefeitura Butantã',\n",
       "       'Subprefeitura de Guaianases', 'Subprefeitura Cidade Ademar',\n",
       "       'Subprefeitura São Mateus', 'Subprefeitura Santo Amaro',\n",
       "       'Subprefeitura Aricanduva/Formosa/Carrão',\n",
       "       'Subprefeitura Casa Verde/Cachoeirinha', 'Subprefeitura Ipiranga',\n",
       "       'Subprefeitura Itaquera', 'Subprefeitura Jabaquara',\n",
       "       'Subprefeitura de Vila Prudente',\n",
       "       'Subprefeitura Cidade Tiradentes',\n",
       "       'Subprefeitura Ermelino Matarazzo',\n",
       "       'Subprefeitura Freguesia/Brasilândia', 'Subprefeitura Parelheiros',\n",
       "       \"Subprefeitura M'Boi Mirim\", 'Subprefeitura Mooca',\n",
       "       'Subprefeitura Pinheiros',\n",
       "       'Subprefeitura Vila Maria/Vila Guilherme',\n",
       "       'Supra Subprefeitura Centro', 'Supra Subprefeitura Leste',\n",
       "       'Supra Subprefeitura Norte', 'Supra Subprefeitura Oeste',\n",
       "       'Supra Subprefeitura Sul'], dtype=object)"
      ]
     },
     "execution_count": 9,
     "metadata": {},
     "output_type": "execute_result"
    }
   ],
   "source": [
    "df_orcamento_regionalizavel[\"SUBPREFEITURA\"].unique()"
   ]
  },
  {
   "cell_type": "code",
   "execution_count": 10,
   "id": "c6811824",
   "metadata": {},
   "outputs": [
    {
     "data": {
      "text/plain": [
       "array(['Subprefeitura Sé', 'Subprefeitura Vila Mariana',\n",
       "       'Subprefeitura Santana/Tucuruvi', 'Subprefeitura Campo Limpo',\n",
       "       'Subprefeitura Itaim Paulista', 'Subprefeitura Pirituba/Jaraguá',\n",
       "       'Subprefeitura Sapopemba', 'Subprefeitura Capela do Socorro',\n",
       "       'Subprefeitura Lapa', 'Subprefeitura Jaçanã/Tremembé',\n",
       "       'Subprefeitura Penha', 'Subprefeitura São Miguel Paulista',\n",
       "       'Subprefeitura Perus/Anhanguera', 'Subprefeitura Butantã',\n",
       "       'Subprefeitura de Guaianases', 'Subprefeitura Cidade Ademar',\n",
       "       'Subprefeitura São Mateus', 'Subprefeitura Santo Amaro',\n",
       "       'Subprefeitura Aricanduva/Formosa/Carrão',\n",
       "       'Subprefeitura Casa Verde/Cachoeirinha', 'Subprefeitura Ipiranga',\n",
       "       'Subprefeitura Itaquera', 'Subprefeitura Jabaquara',\n",
       "       'Subprefeitura de Vila Prudente',\n",
       "       'Subprefeitura Cidade Tiradentes',\n",
       "       'Subprefeitura Ermelino Matarazzo',\n",
       "       'Subprefeitura Freguesia/Brasilândia', 'Subprefeitura Parelheiros',\n",
       "       \"Subprefeitura M'Boi Mirim\", 'Subprefeitura Mooca',\n",
       "       'Subprefeitura Pinheiros',\n",
       "       'Subprefeitura Vila Maria/Vila Guilherme'], dtype=object)"
      ]
     },
     "execution_count": 10,
     "metadata": {},
     "output_type": "execute_result"
    }
   ],
   "source": [
    "supra_subprefs = [\n",
    "    \"Supra Subprefeitura Centro\",\n",
    "    \"Supra Subprefeitura Leste\",\n",
    "    \"Supra Subprefeitura Norte\",\n",
    "    \"Supra Subprefeitura Oeste\",\n",
    "    \"Supra Subprefeitura Sul\"]\n",
    "\n",
    "df_orcamento_regionalizavel = df_orcamento_regionalizavel[~df_orcamento_regionalizavel[\"SUBPREFEITURA\"].isin(supra_subprefs)]\n",
    "\n",
    "df_orcamento_regionalizavel[\"SUBPREFEITURA\"].unique()"
   ]
  },
  {
   "cell_type": "code",
   "execution_count": 11,
   "id": "75471d86",
   "metadata": {},
   "outputs": [],
   "source": [
    "gdf = load_shapefile(\"subprefeituras_geosampa.shp\")"
   ]
  },
  {
   "cell_type": "code",
   "execution_count": 12,
   "id": "1d560494",
   "metadata": {},
   "outputs": [
    {
     "data": {
      "text/html": [
       "<div>\n",
       "<style scoped>\n",
       "    .dataframe tbody tr th:only-of-type {\n",
       "        vertical-align: middle;\n",
       "    }\n",
       "\n",
       "    .dataframe tbody tr th {\n",
       "        vertical-align: top;\n",
       "    }\n",
       "\n",
       "    .dataframe thead th {\n",
       "        text-align: right;\n",
       "    }\n",
       "</style>\n",
       "<table border=\"1\" class=\"dataframe\">\n",
       "  <thead>\n",
       "    <tr style=\"text-align: right;\">\n",
       "      <th></th>\n",
       "      <th>sp_areamt</th>\n",
       "      <th>sp_areakmt</th>\n",
       "      <th>sp_codigo</th>\n",
       "      <th>sp_id</th>\n",
       "      <th>sp_sigla</th>\n",
       "      <th>sp_nome</th>\n",
       "      <th>geometry</th>\n",
       "    </tr>\n",
       "  </thead>\n",
       "  <tbody>\n",
       "    <tr>\n",
       "      <th>0</th>\n",
       "      <td>31,980,202.74</td>\n",
       "      <td>32.00</td>\n",
       "      <td>03</td>\n",
       "      <td>2.00</td>\n",
       "      <td>FO</td>\n",
       "      <td>FREGUESIA-BRASILANDIA</td>\n",
       "      <td>POLYGON ((327340.628 7399133.313, 327331.514 7...</td>\n",
       "    </tr>\n",
       "    <tr>\n",
       "      <th>1</th>\n",
       "      <td>27,232,342.53</td>\n",
       "      <td>27.00</td>\n",
       "      <td>04</td>\n",
       "      <td>3.00</td>\n",
       "      <td>CV</td>\n",
       "      <td>CASA VERDE-CACHOEIRINHA</td>\n",
       "      <td>POLYGON ((329084.795 7402363.669, 329086.123 7...</td>\n",
       "    </tr>\n",
       "    <tr>\n",
       "      <th>2</th>\n",
       "      <td>40,638,699.56</td>\n",
       "      <td>41.00</td>\n",
       "      <td>08</td>\n",
       "      <td>13.00</td>\n",
       "      <td>LA</td>\n",
       "      <td>LAPA</td>\n",
       "      <td>POLYGON ((321633.729 7393535.365, 321633.031 7...</td>\n",
       "    </tr>\n",
       "    <tr>\n",
       "      <th>3</th>\n",
       "      <td>56,889,310.75</td>\n",
       "      <td>57.00</td>\n",
       "      <td>01</td>\n",
       "      <td>31.00</td>\n",
       "      <td>PR</td>\n",
       "      <td>PERUS</td>\n",
       "      <td>POLYGON ((325464.932 7409329.344, 325464.513 7...</td>\n",
       "    </tr>\n",
       "    <tr>\n",
       "      <th>4</th>\n",
       "      <td>26,665,465.09</td>\n",
       "      <td>27.00</td>\n",
       "      <td>09</td>\n",
       "      <td>14.00</td>\n",
       "      <td>SE</td>\n",
       "      <td>SE</td>\n",
       "      <td>POLYGON ((330197.017 7396087.885, 330211.849 7...</td>\n",
       "    </tr>\n",
       "  </tbody>\n",
       "</table>\n",
       "</div>"
      ],
      "text/plain": [
       "      sp_areamt  sp_areakmt sp_codigo  sp_id sp_sigla  \\\n",
       "0 31,980,202.74       32.00        03   2.00       FO   \n",
       "1 27,232,342.53       27.00        04   3.00       CV   \n",
       "2 40,638,699.56       41.00        08  13.00       LA   \n",
       "3 56,889,310.75       57.00        01  31.00       PR   \n",
       "4 26,665,465.09       27.00        09  14.00       SE   \n",
       "\n",
       "                   sp_nome                                           geometry  \n",
       "0    FREGUESIA-BRASILANDIA  POLYGON ((327340.628 7399133.313, 327331.514 7...  \n",
       "1  CASA VERDE-CACHOEIRINHA  POLYGON ((329084.795 7402363.669, 329086.123 7...  \n",
       "2                     LAPA  POLYGON ((321633.729 7393535.365, 321633.031 7...  \n",
       "3                    PERUS  POLYGON ((325464.932 7409329.344, 325464.513 7...  \n",
       "4                       SE  POLYGON ((330197.017 7396087.885, 330211.849 7...  "
      ]
     },
     "execution_count": 12,
     "metadata": {},
     "output_type": "execute_result"
    }
   ],
   "source": [
    "gdf.head()"
   ]
  },
  {
   "cell_type": "code",
   "execution_count": 13,
   "id": "131f36b4",
   "metadata": {},
   "outputs": [
    {
     "data": {
      "text/plain": [
       "array(['FREGUESIA-BRASILANDIA', 'CASA VERDE-CACHOEIRINHA', 'LAPA',\n",
       "       'PERUS', 'SE', 'SANTANA-TUCURUVI', 'PINHEIROS', 'JACANA-TREMEMBE',\n",
       "       'VILA MARIA-VILA GUILHERME', 'MOOCA', 'IPIRANGA', 'VILA MARIANA',\n",
       "       'PENHA', 'ERMELINO MATARAZZO', 'SAO MIGUEL', 'ITAQUERA',\n",
       "       'ARICANDUVA-FORMOSA-CARRAO', 'SAO MATEUS', 'VILA PRUDENTE',\n",
       "       'SAPOPEMBA', 'PARELHEIROS', 'CAMPO LIMPO', 'CAPELA DO SOCORRO',\n",
       "       'CIDADE ADEMAR', 'JABAQUARA', 'SANTO AMARO', 'ITAIM PAULISTA',\n",
       "       'GUAIANASES', 'CIDADE TIRADENTES', 'BUTANTA', 'PIRITUBA-JARAGUA',\n",
       "       'M BOI MIRIM'], dtype=object)"
      ]
     },
     "execution_count": 13,
     "metadata": {},
     "output_type": "execute_result"
    }
   ],
   "source": [
    "gdf[\"sp_nome\"].unique()"
   ]
  },
  {
   "cell_type": "code",
   "execution_count": 14,
   "id": "555d45bc",
   "metadata": {},
   "outputs": [
    {
     "data": {
      "text/plain": [
       "array(['SE', 'VILA MARIANA', 'SANTANA-TUCURUVI', 'CAMPO LIMPO',\n",
       "       'ITAIM PAULISTA', 'PIRITUBA-JARAGUA', 'SAPOPEMBA',\n",
       "       'CAPELA DO SOCORRO', 'LAPA', 'JACANA-TREMEMBE', 'PENHA',\n",
       "       'SAO MIGUEL', 'PERUS', 'BUTANTA', 'GUAIANASES', 'CIDADE ADEMAR',\n",
       "       'SAO MATEUS', 'SANTO AMARO', 'ARICANDUVA-FORMOSA-CARRAO',\n",
       "       'CASA VERDE-CACHOEIRINHA', 'IPIRANGA', 'ITAQUERA', 'JABAQUARA',\n",
       "       'VILA PRUDENTE', 'CIDADE TIRADENTES', 'ERMELINO MATARAZZO',\n",
       "       'FREGUESIA-BRASILANDIA', 'PARELHEIROS', 'M BOI MIRIM', 'MOOCA',\n",
       "       'PINHEIROS', 'VILA MARIA-VILA GUILHERME'], dtype=object)"
      ]
     },
     "execution_count": 14,
     "metadata": {},
     "output_type": "execute_result"
    }
   ],
   "source": [
    "mapper = {\"Subprefeitura Sé\": \"SE\",\n",
    "          \"Subprefeitura Vila Mariana\": \"VILA MARIANA\",\n",
    "          \"Subprefeitura Santana/Tucuruvi\": \"SANTANA-TUCURUVI\",\n",
    "          \"Subprefeitura Campo Limpo\": \"CAMPO LIMPO\",\n",
    "          \"Subprefeitura Itaim Paulista\": \"ITAIM PAULISTA\",\n",
    "          \"Subprefeitura Pirituba/Jaraguá\": \"PIRITUBA-JARAGUA\",\n",
    "          \"Subprefeitura Sapopemba\": \"SAPOPEMBA\",\n",
    "          \"Subprefeitura Capela do Socorro\": \"CAPELA DO SOCORRO\",\n",
    "          \"Subprefeitura Lapa\": \"LAPA\",\n",
    "          \"Subprefeitura Jaçanã/Tremembé\": \"JACANA-TREMEMBE\",\n",
    "          \"Subprefeitura Penha\": \"PENHA\",\n",
    "          \"Subprefeitura São Miguel Paulista\": \"SAO MIGUEL\",\n",
    "          \"Subprefeitura Perus/Anhanguera\": \"PERUS\",\n",
    "          \"Subprefeitura Butantã\": \"BUTANTA\",\n",
    "          \"Subprefeitura de Guaianases\": \"GUAIANASES\",\n",
    "          \"Subprefeitura São Mateus\": \"SAO MATEUS\",\n",
    "          \"Subprefeitura Cidade Ademar\": \"CIDADE ADEMAR\",\n",
    "          \"Subprefeitura de Vila Prudente\": \"VILA PRUDENTE\",\n",
    "          \"Subprefeitura Ipiranga\": \"IPIRANGA\",\n",
    "          \"Subprefeitura Pinheiros\": \"PINHEIROS\",\n",
    "          \"Subprefeitura Casa Verde/Cachoeirinha\": \"CASA VERDE-CACHOEIRINHA\",\n",
    "          \"Subprefeitura Freguesia/Brasilândia\": \"FREGUESIA-BRASILANDIA\",\n",
    "          \"Subprefeitura M'Boi Mirim\": \"M BOI MIRIM\",\n",
    "          \"Subprefeitura Vila Maria/Vila Guilherme\": \"VILA MARIA-VILA GUILHERME\",\n",
    "          \"Subprefeitura Aricanduva/Formosa/Carrão\": \"ARICANDUVA-FORMOSA-CARRAO\",\n",
    "          \"Subprefeitura Santo Amaro\": \"SANTO AMARO\",\n",
    "          \"Subprefeitura Mooca\": \"MOOCA\",\n",
    "          \"Subprefeitura Ermelino Matarazzo\": \"ERMELINO MATARAZZO\",\n",
    "          \"Subprefeitura Cidade Tiradentes\": \"CIDADE TIRADENTES\",\n",
    "          \"Subprefeitura Itaquera\": \"ITAQUERA\",\n",
    "          \"Subprefeitura Jabaquara\": \"JABAQUARA\",\n",
    "          \"Subprefeitura Parelheiros\": \"PARELHEIROS\"}\n",
    "\n",
    "df_orcamento_regionalizavel.loc[:, \"SUBPREFEITURA\"] = df_orcamento_regionalizavel[\"SUBPREFEITURA\"].map(mapper)\n",
    "\n",
    "df_orcamento_regionalizavel[\"SUBPREFEITURA\"].unique()"
   ]
  },
  {
   "cell_type": "code",
   "execution_count": 15,
   "id": "c0557d8b",
   "metadata": {},
   "outputs": [
    {
     "name": "stdout",
     "output_type": "stream",
     "text": [
      "Data saved to data\\orcamento_tratado_2024.csv\n"
     ]
    }
   ],
   "source": [
    "save_csv(df_orcamento_regionalizavel, \"orcamento_tratado_2024.csv\")"
   ]
  }
 ],
 "metadata": {
  "kernelspec": {
   "display_name": "venv",
   "language": "python",
   "name": "python3"
  },
  "language_info": {
   "codemirror_mode": {
    "name": "ipython",
    "version": 3
   },
   "file_extension": ".py",
   "mimetype": "text/x-python",
   "name": "python",
   "nbconvert_exporter": "python",
   "pygments_lexer": "ipython3",
   "version": "3.12.0"
  }
 },
 "nbformat": 4,
 "nbformat_minor": 5
}
