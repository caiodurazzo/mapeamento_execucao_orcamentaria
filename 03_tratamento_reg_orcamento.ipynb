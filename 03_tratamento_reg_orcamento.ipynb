{
 "cells": [
  {
   "cell_type": "markdown",
   "id": "ec1cedc2",
   "metadata": {},
   "source": [
    "## Tratamento da regionalização da execução orçamentária"
   ]
  },
  {
   "cell_type": "markdown",
   "id": "3b1a1adf",
   "metadata": {},
   "source": [
    "Nesse notebook são tratados os dados da regionalização da execução orçamentária da Prefeitura Municipal de São Paulo para o ano de 2024"
   ]
  },
  {
   "cell_type": "code",
   "execution_count": null,
   "id": "0945cdad",
   "metadata": {},
   "outputs": [],
   "source": [
    "import pandas as pd\n",
    "import numpy as np\n",
    "from utils.load_csv import load_csv\n",
    "from utils.load_shapefile import load_shapefile\n",
    "from utils.save_csv import save_csv"
   ]
  },
  {
   "cell_type": "code",
   "execution_count": null,
   "id": "2ec40187",
   "metadata": {},
   "outputs": [],
   "source": [
    "df_reg_orcamento = load_csv(\"reg_orcamento_2024.csv\")"
   ]
  },
  {
   "cell_type": "markdown",
   "id": "048fad45",
   "metadata": {},
   "source": [
    "#### Filtro regionalizável"
   ]
  },
  {
   "cell_type": "markdown",
   "id": "58bb4413",
   "metadata": {},
   "source": [
    "Filtra a base de dados para conter apenas despesas regionalizáveis"
   ]
  },
  {
   "cell_type": "code",
   "execution_count": null,
   "id": "fd55c8ea",
   "metadata": {},
   "outputs": [],
   "source": [
    "df_reg_orcamento[\"TIPO_REGIONALIZAÇÃO\"].unique()"
   ]
  },
  {
   "cell_type": "code",
   "execution_count": null,
   "id": "0585a3fd",
   "metadata": {},
   "outputs": [],
   "source": [
    "df_orcamento_regionalizavel = df_reg_orcamento[df_reg_orcamento[\"TIPO_REGIONALIZAÇÃO\"] == \"Despesa Regionalizável\"].copy()\n",
    "\n",
    "df_orcamento_regionalizavel[\"TIPO_REGIONALIZAÇÃO\"].unique()"
   ]
  },
  {
   "cell_type": "code",
   "execution_count": null,
   "id": "21358ad5",
   "metadata": {},
   "outputs": [],
   "source": [
    "df_orcamento_regionalizavel"
   ]
  },
  {
   "cell_type": "markdown",
   "id": "c87017c3",
   "metadata": {},
   "source": [
    "#### Transformação da variável de gasto"
   ]
  },
  {
   "cell_type": "markdown",
   "id": "d32cfb77",
   "metadata": {},
   "source": [
    "Transforma a variável de gasto da base de dados de string para float"
   ]
  },
  {
   "cell_type": "code",
   "execution_count": null,
   "id": "64601bef",
   "metadata": {},
   "outputs": [],
   "source": [
    "df_orcamento_regionalizavel[\"VALOR_DETALHAMENTO_AÇÃO\"].unique()"
   ]
  },
  {
   "cell_type": "code",
   "execution_count": null,
   "id": "e6eb950d",
   "metadata": {},
   "outputs": [],
   "source": [
    "df_orcamento_regionalizavel[\"VALOR_DETALHAMENTO_AÇÃO\"] = df_orcamento_regionalizavel[\"VALOR_DETALHAMENTO_AÇÃO\"].str.replace(\".\", \"\").str.replace(\",\", \".\").astype(float)\n",
    "\n",
    "pd.options.display.float_format = '{:,.2f}'.format\n",
    "\n",
    "df_orcamento_regionalizavel[\"VALOR_DETALHAMENTO_AÇÃO\"].describe()"
   ]
  },
  {
   "cell_type": "code",
   "execution_count": null,
   "id": "a1da73c2",
   "metadata": {},
   "outputs": [],
   "source": [
    "np.set_printoptions(suppress = True)\n",
    "\n",
    "df_orcamento_regionalizavel[\"VALOR_DETALHAMENTO_AÇÃO\"].unique()"
   ]
  },
  {
   "cell_type": "markdown",
   "id": "0c4286cc",
   "metadata": {},
   "source": [
    "#### Normalização das subprefeituras"
   ]
  },
  {
   "cell_type": "markdown",
   "id": "4897c640",
   "metadata": {},
   "source": [
    "Trata os nomes das subprefreituras na base de dados da regionalização da execução orçamentária para estar igual aos nomes no shapefile das subprefeituras"
   ]
  },
  {
   "cell_type": "code",
   "execution_count": null,
   "id": "53b21a8a",
   "metadata": {},
   "outputs": [],
   "source": [
    "df_orcamento_regionalizavel[\"SUBPREFEITURA\"].unique()"
   ]
  },
  {
   "cell_type": "code",
   "execution_count": null,
   "id": "c6811824",
   "metadata": {},
   "outputs": [],
   "source": [
    "supra_subprefs = [\n",
    "    \"Supra Subprefeitura Centro\",\n",
    "    \"Supra Subprefeitura Leste\",\n",
    "    \"Supra Subprefeitura Norte\",\n",
    "    \"Supra Subprefeitura Oeste\",\n",
    "    \"Supra Subprefeitura Sul\"]\n",
    "\n",
    "df_orcamento_regionalizavel = df_orcamento_regionalizavel[~df_orcamento_regionalizavel[\"SUBPREFEITURA\"].isin(supra_subprefs)]\n",
    "\n",
    "df_orcamento_regionalizavel[\"SUBPREFEITURA\"].unique()"
   ]
  },
  {
   "cell_type": "code",
   "execution_count": null,
   "id": "75471d86",
   "metadata": {},
   "outputs": [],
   "source": [
    "gdf = load_shapefile(\"subprefeituras_geosampa\")"
   ]
  },
  {
   "cell_type": "code",
   "execution_count": null,
   "id": "1d560494",
   "metadata": {},
   "outputs": [],
   "source": [
    "gdf.head()"
   ]
  },
  {
   "cell_type": "code",
   "execution_count": null,
   "id": "131f36b4",
   "metadata": {},
   "outputs": [],
   "source": [
    "gdf[\"sp_nome\"].unique()"
   ]
  },
  {
   "cell_type": "code",
   "execution_count": null,
   "id": "555d45bc",
   "metadata": {},
   "outputs": [],
   "source": [
    "mapper = {\"Subprefeitura Sé\": \"SE\",\n",
    "          \"Subprefeitura Vila Mariana\": \"VILA MARIANA\",\n",
    "          \"Subprefeitura Santana/Tucuruvi\": \"SANTANA-TUCURUVI\",\n",
    "          \"Subprefeitura Campo Limpo\": \"CAMPO LIMPO\",\n",
    "          \"Subprefeitura Itaim Paulista\": \"ITAIM PAULISTA\",\n",
    "          \"Subprefeitura Pirituba/Jaraguá\": \"PIRITUBA-JARAGUA\",\n",
    "          \"Subprefeitura Sapopemba\": \"SAPOPEMBA\",\n",
    "          \"Subprefeitura Capela do Socorro\": \"CAPELA DO SOCORRO\",\n",
    "          \"Subprefeitura Lapa\": \"LAPA\",\n",
    "          \"Subprefeitura Jaçanã/Tremembé\": \"JACANA-TREMEMBE\",\n",
    "          \"Subprefeitura Penha\": \"PENHA\",\n",
    "          \"Subprefeitura São Miguel Paulista\": \"SAO MIGUEL\",\n",
    "          \"Subprefeitura Perus/Anhanguera\": \"PERUS\",\n",
    "          \"Subprefeitura Butantã\": \"BUTANTA\",\n",
    "          \"Subprefeitura de Guaianases\": \"GUAIANASES\",\n",
    "          \"Subprefeitura São Mateus\": \"SAO MATEUS\",\n",
    "          \"Subprefeitura Cidade Ademar\": \"CIDADE ADEMAR\",\n",
    "          \"Subprefeitura de Vila Prudente\": \"VILA PRUDENTE\",\n",
    "          \"Subprefeitura Ipiranga\": \"IPIRANGA\",\n",
    "          \"Subprefeitura Pinheiros\": \"PINHEIROS\",\n",
    "          \"Subprefeitura Casa Verde/Cachoeirinha\": \"CASA VERDE-CACHOEIRINHA\",\n",
    "          \"Subprefeitura Freguesia/Brasilândia\": \"FREGUESIA-BRASILANDIA\",\n",
    "          \"Subprefeitura M'Boi Mirim\": \"M BOI MIRIM\",\n",
    "          \"Subprefeitura Vila Maria/Vila Guilherme\": \"VILA MARIA-VILA GUILHERME\",\n",
    "          \"Subprefeitura Aricanduva/Formosa/Carrão\": \"ARICANDUVA-FORMOSA-CARRAO\",\n",
    "          \"Subprefeitura Santo Amaro\": \"SANTO AMARO\",\n",
    "          \"Subprefeitura Mooca\": \"MOOCA\",\n",
    "          \"Subprefeitura Ermelino Matarazzo\": \"ERMELINO MATARAZZO\",\n",
    "          \"Subprefeitura Cidade Tiradentes\": \"CIDADE TIRADENTES\",\n",
    "          \"Subprefeitura Itaquera\": \"ITAQUERA\",\n",
    "          \"Subprefeitura Jabaquara\": \"JABAQUARA\",\n",
    "          \"Subprefeitura Parelheiros\": \"PARELHEIROS\"}\n",
    "\n",
    "df_orcamento_regionalizavel.loc[:, \"SUBPREFEITURA\"] = df_orcamento_regionalizavel[\"SUBPREFEITURA\"].map(mapper)\n",
    "\n",
    "df_orcamento_regionalizavel[\"SUBPREFEITURA\"].unique()"
   ]
  },
  {
   "cell_type": "code",
   "execution_count": null,
   "id": "c0557d8b",
   "metadata": {},
   "outputs": [],
   "source": [
    "save_csv(df_orcamento_regionalizavel, \"orcamento_tratado_2024.csv\")"
   ]
  }
 ],
 "metadata": {
  "kernelspec": {
   "display_name": "Python 3",
   "language": "python",
   "name": "python3"
  },
  "language_info": {
   "name": "python",
   "version": "3.12.0"
  }
 },
 "nbformat": 4,
 "nbformat_minor": 5
}
